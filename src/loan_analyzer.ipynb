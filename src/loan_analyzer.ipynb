{
 "cells": [
  {
   "cell_type": "markdown",
   "source": [
    "Loan Analyzer Program - Written in Python (This is a Jupyer Notebook version of the Loan Analyer Python)\n"
   ],
   "metadata": {}
  },
  {
   "cell_type": "code",
   "execution_count": null,
   "source": [
    "## Part 1 - Automate the calculation\n",
    "\n",
    "loan_costs = [500, 600, 200, 1000, 450]\n",
    "\n",
    "# Number of loans that are in the list.\n",
    "number_of_loans = len(loan_costs)\n",
    "print(f\"The total number of loans in the list is {number_of_loans}\")\n",
    "\n",
    "# Total of all loans in the list. \n",
    "loans_total = sum(loan_costs)\n",
    "print(f\"The total of all loans is {loans_total}\")\n",
    "\n",
    "# Average price of the loan.\n",
    "loans_average = loans_total / number_of_loans\n",
    "print(f\"The average loan price is ${loans_average}\")\n"
   ],
   "outputs": [],
   "metadata": {}
  },
  {
   "cell_type": "code",
   "execution_count": null,
   "source": [
    "## Part 2 - Analyze loan data\n",
    "\n",
    "# Loan data\n",
    "loan = {\n",
    "    \"loan_price\": 500,\n",
    "    \"remaining_months\": 9,\n",
    "    \"repayment_interval\": \"bullet\",\n",
    "    \"future_value\": 1000,\n",
    "}\n",
    "\n",
    "# Future value and remaining months\n",
    "future_value = loan.get(\"future_value\")\n",
    "remaining_months = loan.get(\"remaining_months\")\n",
    "print(f\"The future value of the loan is ${future_value}\")\n",
    "print(f\"The remaining months are {remaining_months}\")\n",
    "\n",
    "# Calculating present value\n",
    "discount_rate = 0.20\n",
    "present_value = future_value / (1+discount_rate/12) ** remaining_months\n",
    "print(f\"The present value of the loan is ${round(present_value, 2)}\")\n",
    "\n",
    "if present_value >= loan.get(\"loan_price\"):\n",
    "    print(f\"The loan is worth at least the cost to buy it\")\n",
    "else:\n",
    "    print(f\"The loan is too expensive and not worth the price\")"
   ],
   "outputs": [],
   "metadata": {}
  },
  {
   "cell_type": "code",
   "execution_count": 24,
   "source": [
    "## Part 3 - Perform Financial Calculations\n",
    "\n",
    "new_loan = {\n",
    "    \"loan_price\": 800,\n",
    "    \"remaining_months\": 12,\n",
    "    \"repayment_interval\": \"bullet\",\n",
    "    \"future_value\": 1000,\n",
    "}\n",
    "\n",
    "annual_discount_rate = 0.2\n",
    "def pv(future_value, remaining_months, annual_discount_rate):\n",
    "    present_value = future_value / (1+annual_discount_rate/12) ** remaining_months\n",
    "    return present_value\n",
    "\n",
    "present_value = pv(new_loan.get(\"future_value\"), new_loan.get(\"remaining_months\"), annual_discount_rate)\n",
    "print(f\"The present value of the loan is ${round(present_value, 2)}\")"
   ],
   "outputs": [
    {
     "output_type": "stream",
     "name": "stdout",
     "text": [
      "The present value of the loan is $743.56\n"
     ]
    }
   ],
   "metadata": {}
  },
  {
   "cell_type": "code",
   "execution_count": null,
   "source": [
    "## Part 4 - Conditionally filter lists of loans\n",
    "\n",
    "loans = [\n",
    "    {\n",
    "        \"loan_price\": 700,\n",
    "        \"remaining_months\": 9,\n",
    "        \"repayment_interval\": \"monthly\",\n",
    "        \"future_value\": 1000,\n",
    "    },\n",
    "    {\n",
    "        \"loan_price\": 500,\n",
    "        \"remaining_months\": 13,\n",
    "        \"repayment_interval\": \"bullet\",\n",
    "        \"future_value\": 1000,\n",
    "    },\n",
    "    {\n",
    "        \"loan_price\": 200,\n",
    "        \"remaining_months\": 16,\n",
    "        \"repayment_interval\": \"bullet\",\n",
    "        \"future_value\": 1000,\n",
    "    },\n",
    "    {\n",
    "        \"loan_price\": 900,\n",
    "        \"remaining_months\": 16,\n",
    "        \"repayment_interval\": \"bullet\",\n",
    "        \"future_value\": 1000,\n",
    "    },\n",
    "]\n",
    "\n",
    "# @TODO: Create an empty list called `inexpensive_loans`\n",
    "inexpensive_loans = []\n",
    "\n",
    "# @TODO: Loop through all the loans and append any that cost $500 or less to the `inexpensive_loans` list\n",
    "for loan_price in loans:\n",
    "    if loans[loan_price] < 500:\n",
    "        inexpensive_loans.append(loans[loan_price])\n",
    "        \n",
    "print(f\"Here is the list of inexpensive loans: {inexpensive_loans}\")"
   ],
   "outputs": [],
   "metadata": {}
  }
 ],
 "metadata": {
  "orig_nbformat": 4,
  "language_info": {
   "name": "python",
   "version": "3.9.6",
   "mimetype": "text/x-python",
   "codemirror_mode": {
    "name": "ipython",
    "version": 3
   },
   "pygments_lexer": "ipython3",
   "nbconvert_exporter": "python",
   "file_extension": ".py"
  },
  "kernelspec": {
   "name": "python3",
   "display_name": "Python 3.9.6 64-bit"
  },
  "interpreter": {
   "hash": "aee8b7b246df8f9039afb4144a1f6fd8d2ca17a180786b69acc140d282b71a49"
  }
 },
 "nbformat": 4,
 "nbformat_minor": 2
}