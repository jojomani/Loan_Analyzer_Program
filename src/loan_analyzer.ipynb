{
 "cells": [
  {
   "cell_type": "markdown",
   "source": [
    "Loan Analyzer Program - Written in Python (This is a Jupyer Notebook version of the Loan Analyer Python)\n"
   ],
   "metadata": {}
  },
  {
   "cell_type": "code",
   "execution_count": null,
   "source": [
    "## Part 1 - Automate the calculation\n",
    "\n",
    "loan_costs = [500, 600, 200, 1000, 450]\n",
    "\n",
    "# Number of loans that are in the list.\n",
    "number_of_loans = len(loan_costs)\n",
    "print(f\"The total number of loans in the list is {number_of_loans}\")\n",
    "\n",
    "# Total of all loans in the list. \n",
    "loans_total = sum(loan_costs)\n",
    "print(f\"The total of all loans is {loans_total}\")\n",
    "\n",
    "# Average price of the loan.\n",
    "loans_average = loans_total / number_of_loans\n",
    "print(f\"The average loan price is ${loans_average}\")\n"
   ],
   "outputs": [],
   "metadata": {}
  },
  {
   "cell_type": "code",
   "execution_count": 7,
   "source": [
    "## Part 2 - Analyze loan data\n",
    "\n",
    "# Loan data\n",
    "loan = {\n",
    "    \"loan_price\": 500,\n",
    "    \"remaining_months\": 9,\n",
    "    \"repayment_interval\": \"bullet\",\n",
    "    \"future_value\": 1000,\n",
    "}\n",
    "\n",
    "# Future value and remaining months\n",
    "future_value = loan.get(\"future_value\")\n",
    "remaining_months = loan.get(\"remaining_months\")\n",
    "print(f\"The future value of the loan is ${future_value}\")\n",
    "print(f\"The remaining months are {remaining_months}\")\n",
    "\n",
    "# Calculating present value\n",
    "discount_rate = 0.20\n",
    "present_value = future_value / (1+discount_rate/12) ** remaining_months\n",
    "print(f\"The present value of the loan is ${round(present_value, 2)}\")\n",
    "\n"
   ],
   "outputs": [
    {
     "output_type": "stream",
     "name": "stdout",
     "text": [
      "The future value of the loan is $1000\n",
      "The remaining months are 9\n",
      "The present value of the loan is $861.77\n"
     ]
    }
   ],
   "metadata": {}
  }
 ],
 "metadata": {
  "orig_nbformat": 4,
  "language_info": {
   "name": "python",
   "version": "3.9.6",
   "mimetype": "text/x-python",
   "codemirror_mode": {
    "name": "ipython",
    "version": 3
   },
   "pygments_lexer": "ipython3",
   "nbconvert_exporter": "python",
   "file_extension": ".py"
  },
  "kernelspec": {
   "name": "python3",
   "display_name": "Python 3.9.6 64-bit"
  },
  "interpreter": {
   "hash": "aee8b7b246df8f9039afb4144a1f6fd8d2ca17a180786b69acc140d282b71a49"
  }
 },
 "nbformat": 4,
 "nbformat_minor": 2
}